{
  "metadata": {
    "kernelspec": {
      "name": "python",
      "display_name": "Python (Pyodide)",
      "language": "python"
    },
    "language_info": {
      "codemirror_mode": {
        "name": "python",
        "version": 3
      },
      "file_extension": ".py",
      "mimetype": "text/x-python",
      "name": "python",
      "nbconvert_exporter": "python",
      "pygments_lexer": "ipython3",
      "version": "3.8"
    }
  },
  "nbformat_minor": 5,
  "nbformat": 4,
  "cells": [
    {
      "id": "878543f8-c391-4998-8207-c6b20ef340d6",
      "cell_type": "code",
      "source": "import numpy as np\n\n# Creating the NumPy array 'arr' with integers from 0 to 5\narr = np.arange(6)\n\n# Printing the data type of the array\nprint(\"Data type of the array:\", arr.dtype)\n",
      "metadata": {
        "trusted": true
      },
      "outputs": [
        {
          "name": "stdout",
          "output_type": "stream",
          "text": "Data type of the array: int32\n"
        }
      ],
      "execution_count": 1
    },
    {
      "id": "9ed8ccc1-e444-410a-beff-062f96dc8ff5",
      "cell_type": "code",
      "source": "import numpy as np\n\n# Creating the NumPy array 'arr'\narr = np.array([1.5, 2.6, 3.7])\n\n# Checking if the data type is float64\nif arr.dtype == np.float64:\n    print(\"The data type is float64.\")\nelse:\n    print(\"The data type is not float64.\")\n",
      "metadata": {
        "trusted": true
      },
      "outputs": [
        {
          "name": "stdout",
          "output_type": "stream",
          "text": "The data type is float64.\n"
        }
      ],
      "execution_count": 2
    },
    {
      "id": "2666987d-4773-4cb5-9d6f-e4f53c95daa5",
      "cell_type": "code",
      "source": "import numpy as np\n\n# Creating the NumPy array 'arr' with complex numbers\narr = np.array([1+2j, 3+4j, 5+6j], dtype=np.complex128)\n\n# Printing the array\nprint(arr)\n\n",
      "metadata": {
        "trusted": true
      },
      "outputs": [
        {
          "name": "stdout",
          "output_type": "stream",
          "text": "[1.+2.j 3.+4.j 5.+6.j]\n"
        }
      ],
      "execution_count": 3
    },
    {
      "id": "2a5da306-85e0-4134-b0c2-41fe4c2d5ef6",
      "cell_type": "code",
      "source": "import numpy as np\n\n# Example NumPy array 'arr' of integers\narr = np.array([1, 2, 3, 4, 5])\n\n# Converting 'arr' to float32 data type\narr_float32 = arr.astype(np.float32)\n\n# Printing the converted array and its data type\nprint(arr_float32)\nprint(\"Data type after conversion:\", arr_float32.dtype)\n",
      "metadata": {
        "trusted": true
      },
      "outputs": [
        {
          "name": "stdout",
          "output_type": "stream",
          "text": "[1. 2. 3. 4. 5.]\nData type after conversion: float32\n"
        }
      ],
      "execution_count": 4
    },
    {
      "id": "5ca33867-3262-4612-a6ee-021318c14083",
      "cell_type": "code",
      "source": "import numpy as np\n\n# Example NumPy array 'arr' with float64 data type\narr = np.array([1.123456789, 2.987654321, 3.141592653], dtype=np.float64)\n\n# Converting 'arr' to float32 to reduce decimal precision\narr_float32 = arr.astype(np.float32)\n\n# Printing the converted array and its data type\nprint(arr_float32)\nprint(\"Data type after conversion:\", arr_float32.dtype)\n",
      "metadata": {
        "trusted": true
      },
      "outputs": [
        {
          "name": "stdout",
          "output_type": "stream",
          "text": "[1.1234568 2.9876542 3.1415927]\nData type after conversion: float32\n"
        }
      ],
      "execution_count": 5
    },
    {
      "id": "2eb7a64f-e293-4579-9c4f-af842cb1659a",
      "cell_type": "code",
      "source": "import numpy as np\n\ndef array_attributes(arr):\n    # Getting the shape, size, and data type of the array\n    shape = arr.shape\n    size = arr.size\n    dtype = arr.dtype\n    \n    return shape, size, dtype\n\n# Example usage\narr = np.array([1, 2, 3, 4, 5])\nshape, size, dtype = array_attributes(arr)\n\n# Printing the results\nprint(\"Shape:\", shape)\nprint(\"Size:\", size)\nprint(\"Data type:\", dtype)\n",
      "metadata": {
        "trusted": true
      },
      "outputs": [
        {
          "name": "stdout",
          "output_type": "stream",
          "text": "Shape: (5,)\nSize: 5\nData type: int32\n"
        }
      ],
      "execution_count": 6
    },
    {
      "id": "bc08410e-4d18-4bdc-bc23-0b74cb14c5b8",
      "cell_type": "code",
      "source": "import numpy as np\n\ndef array_dimension(arr):\n    # Getting the dimensionality of the array\n    return arr.ndim\n\n# Example usage\narr = np.array([[1, 2, 3], [4, 5, 6]])\ndim = array_dimension(arr)\n\n# Printing the result\nprint(\"Dimensionality of the array:\", dim)\n",
      "metadata": {
        "trusted": true
      },
      "outputs": [
        {
          "name": "stdout",
          "output_type": "stream",
          "text": "Dimensionality of the array: 2\n"
        }
      ],
      "execution_count": 7
    },
    {
      "id": "a0d9e9a6-13de-4ee6-a50f-616b4b4e0c73",
      "cell_type": "code",
      "source": "import numpy as np\n\ndef item_size_info(arr):\n    # Getting the item size (in bytes) and total size (in bytes)\n    item_size = arr.itemsize\n    total_size = arr.nbytes\n    \n    return item_size, total_size\n\n# Example usage\narr = np.array([1, 2, 3, 4, 5])\nitem_size, total_size = item_size_info(arr)\n\n# Printing the results\nprint(\"Item size (in bytes):\", item_size)\nprint(\"Total size (in bytes):\", total_size)\n",
      "metadata": {
        "trusted": true
      },
      "outputs": [
        {
          "name": "stdout",
          "output_type": "stream",
          "text": "Item size (in bytes): 4\nTotal size (in bytes): 20\n"
        }
      ],
      "execution_count": 8
    },
    {
      "id": "104c1f9d-e1ba-4a99-92f1-5b13f4ebf5e8",
      "cell_type": "code",
      "source": "import numpy as np\n\ndef array_strides(arr):\n    # Getting the strides of the array\n    return arr.strides\n\n# Example usage\narr = np.array([[1, 2, 3], [4, 5, 6]])\nstrides = array_strides(arr)\n\n# Printing the result\nprint(\"Strides of the array:\", strides)\n",
      "metadata": {
        "trusted": true
      },
      "outputs": [
        {
          "name": "stdout",
          "output_type": "stream",
          "text": "Strides of the array: (12, 4)\n"
        }
      ],
      "execution_count": 9
    },
    {
      "id": "818d6c84-dd23-4af8-8885-8c1d4df9de73",
      "cell_type": "code",
      "source": "import numpy as np\n\ndef shape_stride_relationship(arr):\n    # Getting the shape and strides of the array\n    shape = arr.shape\n    strides = arr.strides\n    \n    return shape, strides\n\n# Example usage\narr = np.array([[1, 2, 3], [4, 5, 6]])\nshape, strides = shape_stride_relationship(arr)\n\n# Printing the results\nprint(\"Shape of the array:\", shape)\nprint(\"Strides of the array:\", strides)\n",
      "metadata": {
        "trusted": true
      },
      "outputs": [
        {
          "name": "stdout",
          "output_type": "stream",
          "text": "Shape of the array: (2, 3)\nStrides of the array: (12, 4)\n"
        }
      ],
      "execution_count": 10
    },
    {
      "id": "f217cdbe-b099-4189-9351-dbdf31ac3064",
      "cell_type": "code",
      "source": "import numpy as np\n\ndef create_zeros_array(n):\n    # Creating a NumPy array of zeros with 'n' elements\n    return np.zeros(n)\n\n# Example usage\nn = 5\nzeros_array = create_zeros_array(n)\n\n# Printing the result\nprint(\"Array of zeros:\", zeros_array)\n",
      "metadata": {
        "trusted": true
      },
      "outputs": [
        {
          "name": "stdout",
          "output_type": "stream",
          "text": "Array of zeros: [0. 0. 0. 0. 0.]\n"
        }
      ],
      "execution_count": 11
    },
    {
      "id": "fdca0dfb-f1eb-48ca-b569-ceb996d3c58b",
      "cell_type": "code",
      "source": "import numpy as np\n\ndef create_ones_matrix(rows, cols):\n    # Creating a 2D NumPy array of ones with 'rows' and 'cols'\n    return np.ones((rows, cols))\n\n# Example usage\nrows = 3\ncols = 4\nones_matrix = create_ones_matrix(rows, cols)\n\n# Printing the result\nprint(\"Matrix of ones:\\n\", ones_matrix)\n",
      "metadata": {
        "trusted": true
      },
      "outputs": [
        {
          "name": "stdout",
          "output_type": "stream",
          "text": "Matrix of ones:\n [[1. 1. 1. 1.]\n [1. 1. 1. 1.]\n [1. 1. 1. 1.]]\n"
        }
      ],
      "execution_count": 12
    },
    {
      "id": "b05b8884-9217-48bc-a512-7e690cb47cd8",
      "cell_type": "code",
      "source": "import numpy as np\n\ndef generate_range_array(start, stop, step):\n    # Creating a NumPy array with the specified range and step\n    return np.arange(start, stop, step)\n\n# Example usage\nstart = 2\nstop = 10\nstep = 2\nrange_array = generate_range_array(start, stop, step)\n\n# Printing the result\nprint(\"Generated range array:\", range_array)\n",
      "metadata": {
        "trusted": true
      },
      "outputs": [
        {
          "name": "stdout",
          "output_type": "stream",
          "text": "Generated range array: [2 4 6 8]\n"
        }
      ],
      "execution_count": 13
    },
    {
      "id": "07de471a-a10a-4728-ac1a-f891008f9974",
      "cell_type": "code",
      "source": "import numpy as np\n\ndef generate_linear_space(start, stop, num):\n    # Generating a NumPy array with 'num' equally spaced values between 'start' and 'stop'\n    return np.linspace(start, stop, num)\n\n# Example usage\nstart = 1.0\nstop = 5.0\nnum = 5\nlinear_space_array = generate_linear_space(start, stop, num)\n\n# Printing the result\nprint(\"Generated linear space array:\", linear_space_array)\n",
      "metadata": {
        "trusted": true
      },
      "outputs": [
        {
          "name": "stdout",
          "output_type": "stream",
          "text": "Generated linear space array: [1. 2. 3. 4. 5.]\n"
        }
      ],
      "execution_count": 14
    },
    {
      "id": "ef34aa00-d114-4871-948a-de8ae268c58a",
      "cell_type": "code",
      "source": "import numpy as np\n\ndef create_identity_matrix(n):\n    # Creating a square identity matrix of size 'n x n'\n    return np.eye(n)\n\n# Example usage\nn = 4\nidentity_matrix = create_identity_matrix(n)\n\n# Printing the result\nprint(\"Identity matrix:\\n\", identity_matrix)\n",
      "metadata": {
        "trusted": true
      },
      "outputs": [
        {
          "name": "stdout",
          "output_type": "stream",
          "text": "Identity matrix:\n [[1. 0. 0. 0.]\n [0. 1. 0. 0.]\n [0. 0. 1. 0.]\n [0. 0. 0. 1.]]\n"
        }
      ],
      "execution_count": 15
    },
    {
      "id": "becfdfeb-c383-45ee-a3d2-538a0ea7b72b",
      "cell_type": "code",
      "source": "import numpy as np\n\ndef list_to_numpy_array(py_list):\n    # Converting the Python list to a NumPy array\n    return np.array(py_list)\n\n# Example usage\npy_list = [1, 2, 3, 4, 5]\nnumpy_array = list_to_numpy_array(py_list)\n\n# Printing the result\nprint(\"Converted NumPy array:\", numpy_array)\n",
      "metadata": {
        "trusted": true
      },
      "outputs": [
        {
          "name": "stdout",
          "output_type": "stream",
          "text": "Converted NumPy array: [1 2 3 4 5]\n"
        }
      ],
      "execution_count": 16
    },
    {
      "id": "15c4add2-07da-41cb-b810-48ad44b2f33a",
      "cell_type": "code",
      "source": "import numpy as np\n\n# Creating a NumPy array\narr = np.array([1, 2, 3, 4, 5])\n\n# Using numpy.view to create a new array object with the same data\nview_arr = arr.view()\n\n# Printing both arrays to show they have the same data\nprint(\"Original array:\", arr)\nprint(\"New view array:\", view_arr)\n\n# Modifying the view array to show that changes affect the original array\nview_arr[0] = 10\nprint(\"\\nAfter modifying the view array:\")\nprint(\"Original array:\", arr)\nprint(\"New view array:\", view_arr)\n",
      "metadata": {
        "trusted": true
      },
      "outputs": [
        {
          "name": "stdout",
          "output_type": "stream",
          "text": "Original array: [1 2 3 4 5]\nNew view array: [1 2 3 4 5]\n\nAfter modifying the view array:\nOriginal array: [10  2  3  4  5]\nNew view array: [10  2  3  4  5]\n"
        }
      ],
      "execution_count": 17
    },
    {
      "id": "9d1993f1-40e6-4a60-b8a4-063421dde71a",
      "cell_type": "code",
      "source": "import numpy as np\n\ndef concatenate_arrays(arr1, arr2, axis=0):\n    # Concatenating the two arrays along the specified axis\n    return np.concatenate((arr1, arr2), axis=axis)\n\n# Example usage\narr1 = np.array([[1, 2], [3, 4]])\narr2 = np.array([[5, 6], [7, 8]])\n\n# Concatenating along axis 0 (vertically)\nresult_axis_0 = concatenate_arrays(arr1, arr2, axis=0)\nprint(\"Concatenated along axis 0:\\n\", result_axis_0)\n\n# Concatenating along axis 1 (horizontally)\nresult_axis_1 = concatenate_arrays(arr1, arr2, axis=1)\nprint(\"\\nConcatenated along axis 1:\\n\", result_axis_1)\n",
      "metadata": {
        "trusted": true
      },
      "outputs": [
        {
          "name": "stdout",
          "output_type": "stream",
          "text": "Concatenated along axis 0:\n [[1 2]\n [3 4]\n [5 6]\n [7 8]]\n\nConcatenated along axis 1:\n [[1 2 5 6]\n [3 4 7 8]]\n"
        }
      ],
      "execution_count": 18
    },
    {
      "id": "ba655710-cc10-4b06-9f5a-3513a3dba34e",
      "cell_type": "code",
      "source": "import numpy as np\n\n# Create two NumPy arrays with different shapes\narray1 = np.array([[1, 2, 3], [4, 5, 6]])  # Shape (2, 3)\narray2 = np.array([[7, 8], [9, 10]])        # Shape (2, 2)\n\n# Concatenate them horizontally\nconcatenated_array = np.concatenate((array1, array2), axis=1)\n\nprint(concatenated_array)\n",
      "metadata": {
        "trusted": true
      },
      "outputs": [
        {
          "name": "stdout",
          "output_type": "stream",
          "text": "[[ 1  2  3  7  8]\n [ 4  5  6  9 10]]\n"
        }
      ],
      "execution_count": 19
    },
    {
      "id": "53f1d29e-6db1-400e-a4c3-201ece188f65",
      "cell_type": "code",
      "source": "import numpy as np\n\ndef vertical_stack(arrays):\n    # Use np.vstack to stack the arrays vertically\n    return np.vstack(arrays)\n\n# Example usage:\narray1 = np.array([1, 2, 3])\narray2 = np.array([4, 5, 6])\narray3 = np.array([7, 8, 9])\n\narrays = [array1, array2, array3]\nstacked_array = vertical_stack(arrays)\n\nprint(stacked_array)\n",
      "metadata": {
        "trusted": true
      },
      "outputs": [
        {
          "name": "stdout",
          "output_type": "stream",
          "text": "[[1 2 3]\n [4 5 6]\n [7 8 9]]\n"
        }
      ],
      "execution_count": 20
    },
    {
      "id": "6c872140-123d-4b28-8ced-09c0cb90784b",
      "cell_type": "code",
      "source": "import numpy as np\n\ndef create_array(start, end, step):\n    # Create an array using np.arange that includes the 'end' value\n    return np.arange(start, end + 1, step)\n\n# Example usage:\nstart = 1\nend = 10\nstep = 2\n\narray = create_array(start, end, step)\nprint(array)\n",
      "metadata": {
        "trusted": true
      },
      "outputs": [
        {
          "name": "stdout",
          "output_type": "stream",
          "text": "[1 3 5 7 9]\n"
        }
      ],
      "execution_count": 21
    },
    {
      "id": "d082880a-ed03-4968-a739-6a49793a94f8",
      "cell_type": "code",
      "source": "import numpy as np\n\ndef generate_equally_spaced_values(start, end, num_values):\n    # Generate an array of equally spaced values\n    return np.linspace(start, end, num_values)\n\n# Example usage:\nstart = 0\nend = 1\nnum_values = 10\n\narray = generate_equally_spaced_values(start, end, num_values)\nprint(array)\n",
      "metadata": {
        "trusted": true
      },
      "outputs": [
        {
          "name": "stdout",
          "output_type": "stream",
          "text": "[0.         0.11111111 0.22222222 0.33333333 0.44444444 0.55555556\n 0.66666667 0.77777778 0.88888889 1.        ]\n"
        }
      ],
      "execution_count": 22
    },
    {
      "id": "96101e18-9309-459b-93b2-b31072726133",
      "cell_type": "code",
      "source": "import numpy as np\n\ndef generate_logarithmically_spaced_values(start, end, num_values):\n    # Generate an array of logarithmically spaced values\n    return np.logspace(np.log10(start), np.log10(end), num_values)\n\n# Example usage:\nstart = 1\nend = 1000\nnum_values = 5\n\narray = generate_logarithmically_spaced_values(start, end, num_values)\nprint(array)\n",
      "metadata": {
        "trusted": true
      },
      "outputs": [
        {
          "name": "stdout",
          "output_type": "stream",
          "text": "[   1.            5.62341325   31.6227766   177.827941   1000.        ]\n"
        }
      ],
      "execution_count": 23
    },
    {
      "id": "9cdf1767-3f82-45bf-85f3-30733a063424",
      "cell_type": "code",
      "source": "import numpy as np\nimport pandas as pd\n\n# Generate a NumPy array with random integers between 1 and 100 (5 rows, 3 columns)\nrandom_array = np.random.randint(1, 101, size=(5, 3))\n\n# Create a Pandas DataFrame from the NumPy array\ndf = pd.DataFrame(random_array, columns=['A', 'B', 'C'])\n\n# Display the DataFrame\nprint(df)\n",
      "metadata": {
        "trusted": true
      },
      "outputs": [
        {
          "name": "stdout",
          "output_type": "stream",
          "text": "    A   B   C\n0  50  39  59\n1  74  83  30\n2  70  43  91\n3  94  97  51\n4  42  42  62\n"
        }
      ],
      "execution_count": 25
    },
    {
      "id": "2502eccb-1883-4da4-9897-c507031b85ec",
      "cell_type": "code",
      "source": "import pandas as pd\nimport numpy as np\n\ndef replace_negatives_with_zeros(df, column_name):\n    # Use np.where to replace negative values with zeros in the specified column\n    df[column_name] = np.where(df[column_name] < 0, 0, df[column_name])\n    return df\n\n# Example usage:\ndata = {'A': [10, -5, 15, -3, 8], 'B': [-1, 20, -30, 40, 50]}\ndf = pd.DataFrame(data)\n\nprint(\"Before replacing negatives:\")\nprint(df)\n\n# Replace negative values in column 'A' with zeros\ndf = replace_negatives_with_zeros(df, 'A')\n\nprint(\"\\nAfter replacing negatives in column 'A':\")\nprint(df)\n",
      "metadata": {
        "trusted": true
      },
      "outputs": [
        {
          "name": "stdout",
          "output_type": "stream",
          "text": "Before replacing negatives:\n    A   B\n0  10  -1\n1  -5  20\n2  15 -30\n3  -3  40\n4   8  50\n\nAfter replacing negatives in column 'A':\n    A   B\n0  10  -1\n1   0  20\n2  15 -30\n3   0  40\n4   8  50\n"
        }
      ],
      "execution_count": 26
    },
    {
      "id": "2185b5d2-0887-4b8c-bb1e-2d1b8c74557d",
      "cell_type": "code",
      "source": "import numpy as np\n\narr = np.array([10, 20, 30, 40, 50])\n\n# Access the 3rd element (index 2)\nthird_element = arr[2]\n\nprint(third_element)\n",
      "metadata": {
        "trusted": true
      },
      "outputs": [
        {
          "name": "stdout",
          "output_type": "stream",
          "text": "30\n"
        }
      ],
      "execution_count": 27
    },
    {
      "id": "9bc1359e-0347-4a1a-96d2-705fc7cab6e4",
      "cell_type": "code",
      "source": "import numpy as np\n\narr_2d = np.array([[1, 2, 3],\n                    [4, 5, 6],\n                    [7, 8, 9]])\n\n# Access the element at index (1, 2)\nelement = arr_2d[1, 2]\n\nprint(element)\n",
      "metadata": {
        "trusted": true
      },
      "outputs": [
        {
          "name": "stdout",
          "output_type": "stream",
          "text": "6\n"
        }
      ],
      "execution_count": 28
    },
    {
      "id": "8d28e3f5-41b9-42a8-a955-f26f88c96ff9",
      "cell_type": "code",
      "source": "import numpy as np\n\narr = np.array([3, 8, 2, 10, 5, 7])\n\n# Use boolean indexing to extract elements greater than 5\nfiltered_arr = arr[arr > 5]\n\nprint(filtered_arr)\n",
      "metadata": {
        "trusted": true
      },
      "outputs": [
        {
          "name": "stdout",
          "output_type": "stream",
          "text": "[ 8 10  7]\n"
        }
      ],
      "execution_count": 29
    },
    {
      "id": "10305d72-44f5-409b-a603-eea987144b04",
      "cell_type": "code",
      "source": "import numpy as np\n\narr = np.array([1, 2, 3, 4, 5, 6, 7, 8, 9])\n\n# Perform basic slicing to extract elements from index 2 to 5 (inclusive)\nsliced_arr = arr[2:6]\n\nprint(sliced_arr)\n",
      "metadata": {
        "trusted": true
      },
      "outputs": [
        {
          "name": "stdout",
          "output_type": "stream",
          "text": "[3 4 5 6]\n"
        }
      ],
      "execution_count": 30
    },
    {
      "id": "3ec5dbcb-42bc-4fb9-aace-92ee57636a3b",
      "cell_type": "code",
      "source": "import numpy as np\n\narr_2d = np.array([[1, 2, 3],\n                    [4, 5, 6],\n                    [7, 8, 9]])\n\n# Slice the 2D array to extract the sub-array [[2, 3], [5, 6]]\nsub_array = arr_2d[0:2, 1:3]\n\nprint(sub_array)\n",
      "metadata": {
        "trusted": true
      },
      "outputs": [
        {
          "name": "stdout",
          "output_type": "stream",
          "text": "[[2 3]\n [5 6]]\n"
        }
      ],
      "execution_count": 31
    },
    {
      "id": "01a76eaa-25c2-47b1-abd2-734fc4e20487",
      "cell_type": "code",
      "source": "import numpy as np\n\ndef extract_elements_by_indices(arr_2d, indices):\n    # Use advanced indexing to extract elements\n    return arr_2d[indices[:, 0], indices[:, 1]]\n\n# Example usage:\narr_2d = np.array([[1, 2, 3],\n                   [4, 5, 6],\n                   [7, 8, 9]])\n\n# Indices in the form of a 2D array (row, column)\nindices = np.array([[0, 1],  # element at row 0, col 1 -> 2\n                    [1, 2],  # element at row 1, col 2 -> 6\n                    [2, 0]]) # element at row 2, col 0 -> 7\n\n# Extract elements based on the indices\nextracted_elements = extract_elements_by_indices(arr_2d, indices)\n\nprint(extracted_elements)\n",
      "metadata": {
        "trusted": true
      },
      "outputs": [
        {
          "name": "stdout",
          "output_type": "stream",
          "text": "[2 6 7]\n"
        }
      ],
      "execution_count": 32
    },
    {
      "id": "8fd75530-bc5b-474c-b69b-b54a78caf59e",
      "cell_type": "code",
      "source": "import numpy as np\n\ndef filter_elements_greater_than_threshold(arr, threshold):\n    # Use boolean indexing to filter elements greater than the threshold\n    return arr[arr > threshold]\n\n# Example usage:\narr = np.array([1, 5, 8, 12, 3, 7, 4])\nthreshold = 6\n\n# Filter elements greater than the threshold\nfiltered_arr = filter_elements_greater_than_threshold(arr, threshold)\n\nprint(filtered_arr)\n",
      "metadata": {
        "trusted": true
      },
      "outputs": [
        {
          "name": "stdout",
          "output_type": "stream",
          "text": "[ 8 12  7]\n"
        }
      ],
      "execution_count": 33
    },
    {
      "id": "d9a9f9b5-e844-4862-ac45-ef3433206e51",
      "cell_type": "code",
      "source": "import numpy as np\n\ndef extract_elements_from_3d_array(arr_3d, row_indices, col_indices, depth_indices):\n    # Use advanced indexing to extract elements based on the provided indices\n    return arr_3d[row_indices, col_indices, depth_indices]\n\n# Example usage:\narr_3d = np.array([[[1, 2], [3, 4], [5, 6]],\n                   [[7, 8], [9, 10], [11, 12]],\n                   [[13, 14], [15, 16], [17, 18]]])\n\n# Indices for each dimension\nrow_indices = np.array([0, 1, 2])  # Row indices\ncol_indices = np.array([1, 0, 2])  # Column indices\ndepth_indices = np.array([0, 1, 0])  # Depth indices\n\n# Extract elements from the 3D array \n",
      "metadata": {
        "trusted": true
      },
      "outputs": [],
      "execution_count": 35
    },
    {
      "id": "2ea08b85-200c-42b4-960f-df133ef2268e",
      "cell_type": "code",
      "source": "import numpy as np\n\ndef filter_elements_by_conditions(arr, condition1, condition2):\n    # Use boolean indexing to return elements where both conditions are satisfied\n    return arr[condition1 & condition2]\n\n# Example usage:\narr = np.array([1, 5, 8, 12, 3, 7, 4])\n\n# Define two conditions: (1) elements greater than 5, (2) elements are even\ncondition1 = arr > 5\ncondition2 = arr % 2 == 0\n\n# Filter elements that satisfy both conditions\nfiltered_arr = filter_elements_by_conditions(arr, condition1, condition2)\n\nprint(filtered_arr)\n",
      "metadata": {
        "trusted": true
      },
      "outputs": [
        {
          "name": "stdout",
          "output_type": "stream",
          "text": "[ 8 12]\n"
        }
      ],
      "execution_count": 36
    },
    {
      "id": "0bc2f03d-7377-4ac0-99c5-09b1f9d4a386",
      "cell_type": "code",
      "source": "import numpy as np\n\ndef extract_elements_from_2d_array(arr_2d, row_indices, col_indices):\n    # Use advanced indexing to extract elements based on row and column indices\n    return arr_2d[row_indices, col_indices]\n\n# Example usage:\narr_2d = np.array([[1, 2, 3],\n                   [4, 5, 6],\n                   [7, 8, 9]])\n\n# Row and column indices\nrow_indices = np.array([0, 1, 2])  # Row indices\ncol_indices = np.array([1, 0, 2])  # Column indices\n\n# Extract elements from the 2D array using the provided indices\nextracted_elements = extract_elements_from_2d_array(arr_2d, row_indices, col_indices)\n\nprint(extracted_elements)\n",
      "metadata": {
        "trusted": true
      },
      "outputs": [
        {
          "name": "stdout",
          "output_type": "stream",
          "text": "[2 4 9]\n"
        }
      ],
      "execution_count": 37
    },
    {
      "id": "c7c091a9-a1ec-4282-8827-b6ea0d05e84d",
      "cell_type": "code",
      "source": "import numpy as np\n\n# Create a 3x3 array\narr = np.array([[1, 2, 3],\n                [4, 5, 6],\n                [7, 8, 9]])\n\n# Add a scalar value of 5 to each element using broadcasting\narr_plus_5 = arr + 5\n\nprint(arr_plus_5)\n",
      "metadata": {
        "trusted": true
      },
      "outputs": [
        {
          "name": "stdout",
          "output_type": "stream",
          "text": "[[ 6  7  8]\n [ 9 10 11]\n [12 13 14]]\n"
        }
      ],
      "execution_count": 38
    },
    {
      "id": "ebc0c450-6046-43be-834d-a99c8b2109bd",
      "cell_type": "code",
      "source": "import numpy as np\n\n# Define arr1 with shape (1, 3)\narr1 = np.array([[2, 3, 4]])\n\n# Define arr2 with shape (3, 4)\narr2 = np.array([[1, 2, 3, 4],\n                 [5, 6, 7, 8],\n                 [9, 10, 11, 12]])\n\n# Multiply each row of arr2 by the corresponding element in arr1 using broadcasting\nresult = arr2 * arr1\n\nprint(result)\n",
      "metadata": {
        "trusted": true
      },
      "outputs": [
        {
          "ename": "<class 'ValueError'>",
          "evalue": "operands could not be broadcast together with shapes (3,4) (1,3) ",
          "traceback": [
            "\u001b[0;31m---------------------------------------------------------------------------\u001b[0m",
            "\u001b[0;31mValueError\u001b[0m                                Traceback (most recent call last)",
            "Cell \u001b[0;32mIn[40], line 12\u001b[0m\n\u001b[1;32m      7\u001b[0m arr2 \u001b[38;5;241m=\u001b[39m np\u001b[38;5;241m.\u001b[39marray([[\u001b[38;5;241m1\u001b[39m, \u001b[38;5;241m2\u001b[39m, \u001b[38;5;241m3\u001b[39m, \u001b[38;5;241m4\u001b[39m],\n\u001b[1;32m      8\u001b[0m                  [\u001b[38;5;241m5\u001b[39m, \u001b[38;5;241m6\u001b[39m, \u001b[38;5;241m7\u001b[39m, \u001b[38;5;241m8\u001b[39m],\n\u001b[1;32m      9\u001b[0m                  [\u001b[38;5;241m9\u001b[39m, \u001b[38;5;241m10\u001b[39m, \u001b[38;5;241m11\u001b[39m, \u001b[38;5;241m12\u001b[39m]])\n\u001b[1;32m     11\u001b[0m \u001b[38;5;66;03m# Multiply each row of arr2 by the corresponding element in arr1 using broadcasting\u001b[39;00m\n\u001b[0;32m---> 12\u001b[0m result \u001b[38;5;241m=\u001b[39m \u001b[43marr2\u001b[49m\u001b[43m \u001b[49m\u001b[38;5;241;43m*\u001b[39;49m\u001b[43m \u001b[49m\u001b[43marr1\u001b[49m\n\u001b[1;32m     14\u001b[0m \u001b[38;5;28mprint\u001b[39m(result)\n",
            "\u001b[0;31mValueError\u001b[0m: operands could not be broadcast together with shapes (3,4) (1,3) "
          ],
          "output_type": "error"
        }
      ],
      "execution_count": 40
    },
    {
      "id": "cdd06504-acaf-4efa-bb32-52622edcc1ed",
      "cell_type": "code",
      "source": "import numpy as np\n\n# Define arr1 with shape (1, 4)\narr1 = np.array([[1, 2, 3, 4]])\n\n# Define arr2 with shape (4, 3)\narr2 = np.array([[5, 6, 7],\n                 [8, 9, 10],\n                 [11, 12, 13],\n                 [14, 15, 16]])\n\n# Add arr1 to each row of arr2 using broadcasting\nresult = arr2 + arr1\n\nprint(result)\n",
      "metadata": {
        "trusted": true
      },
      "outputs": [
        {
          "ename": "<class 'ValueError'>",
          "evalue": "operands could not be broadcast together with shapes (4,3) (1,4) ",
          "traceback": [
            "\u001b[0;31m---------------------------------------------------------------------------\u001b[0m",
            "\u001b[0;31mValueError\u001b[0m                                Traceback (most recent call last)",
            "Cell \u001b[0;32mIn[41], line 13\u001b[0m\n\u001b[1;32m      7\u001b[0m arr2 \u001b[38;5;241m=\u001b[39m np\u001b[38;5;241m.\u001b[39marray([[\u001b[38;5;241m5\u001b[39m, \u001b[38;5;241m6\u001b[39m, \u001b[38;5;241m7\u001b[39m],\n\u001b[1;32m      8\u001b[0m                  [\u001b[38;5;241m8\u001b[39m, \u001b[38;5;241m9\u001b[39m, \u001b[38;5;241m10\u001b[39m],\n\u001b[1;32m      9\u001b[0m                  [\u001b[38;5;241m11\u001b[39m, \u001b[38;5;241m12\u001b[39m, \u001b[38;5;241m13\u001b[39m],\n\u001b[1;32m     10\u001b[0m                  [\u001b[38;5;241m14\u001b[39m, \u001b[38;5;241m15\u001b[39m, \u001b[38;5;241m16\u001b[39m]])\n\u001b[1;32m     12\u001b[0m \u001b[38;5;66;03m# Add arr1 to each row of arr2 using broadcasting\u001b[39;00m\n\u001b[0;32m---> 13\u001b[0m result \u001b[38;5;241m=\u001b[39m \u001b[43marr2\u001b[49m\u001b[43m \u001b[49m\u001b[38;5;241;43m+\u001b[39;49m\u001b[43m \u001b[49m\u001b[43marr1\u001b[49m\n\u001b[1;32m     15\u001b[0m \u001b[38;5;28mprint\u001b[39m(result)\n",
            "\u001b[0;31mValueError\u001b[0m: operands could not be broadcast together with shapes (4,3) (1,4) "
          ],
          "output_type": "error"
        }
      ],
      "execution_count": 41
    },
    {
      "id": "e2d33f6f-5228-4aa1-8a15-d6acde1a3f49",
      "cell_type": "code",
      "source": "import numpy as np\n\n# Define arr1 with shape (1, 3)\narr1 = np.array([[1, 2, 3]])\n\n# Define arr2 with shape (4, 3)\narr2 = np.array([[5, 6, 7],\n                 [8, 9, 10],\n                 [11, 12, 13],\n                 [14, 15, 16]])\n\n# Add arr1 to each row of arr2 using broadcasting\nresult = arr2 + arr1\n\nprint(result)\n",
      "metadata": {
        "trusted": true
      },
      "outputs": [
        {
          "name": "stdout",
          "output_type": "stream",
          "text": "[[ 6  8 10]\n [ 9 11 13]\n [12 14 16]\n [15 17 19]]\n"
        }
      ],
      "execution_count": 42
    },
    {
      "id": "c03cd39d-8c87-4278-90e6-d373f8ad0e1c",
      "cell_type": "code",
      "source": "import numpy as np\n\n# Define arr1 with shape (2, 3)\narr1 = np.array([[1, 2, 3],\n                 [4, 5, 6]])\n\n# Define arr2 with shape (2, 2)\narr2 = np.array([[7, 8],\n                 [9, 10]])\n\n# Reshape arr2 to (2, 3) by repeating its elements (broadcasting mechanism)\narr2_reshaped = np.repeat(arr2, 3, axis=1)\n\n# Perform element-wise multiplication using broadcasting\nresult = arr1 * arr2_reshaped\n\nprint(result)\n",
      "metadata": {
        "trusted": true
      },
      "outputs": [
        {
          "ename": "<class 'ValueError'>",
          "evalue": "operands could not be broadcast together with shapes (2,3) (2,6) ",
          "traceback": [
            "\u001b[0;31m---------------------------------------------------------------------------\u001b[0m",
            "\u001b[0;31mValueError\u001b[0m                                Traceback (most recent call last)",
            "Cell \u001b[0;32mIn[43], line 15\u001b[0m\n\u001b[1;32m     12\u001b[0m arr2_reshaped \u001b[38;5;241m=\u001b[39m np\u001b[38;5;241m.\u001b[39mrepeat(arr2, \u001b[38;5;241m3\u001b[39m, axis\u001b[38;5;241m=\u001b[39m\u001b[38;5;241m1\u001b[39m)\n\u001b[1;32m     14\u001b[0m \u001b[38;5;66;03m# Perform element-wise multiplication using broadcasting\u001b[39;00m\n\u001b[0;32m---> 15\u001b[0m result \u001b[38;5;241m=\u001b[39m \u001b[43marr1\u001b[49m\u001b[43m \u001b[49m\u001b[38;5;241;43m*\u001b[39;49m\u001b[43m \u001b[49m\u001b[43marr2_reshaped\u001b[49m\n\u001b[1;32m     17\u001b[0m \u001b[38;5;28mprint\u001b[39m(result)\n",
            "\u001b[0;31mValueError\u001b[0m: operands could not be broadcast together with shapes (2,3) (2,6) "
          ],
          "output_type": "error"
        }
      ],
      "execution_count": 43
    },
    {
      "id": "1027c573-49f5-4cb5-9612-a32fedf31c38",
      "cell_type": "code",
      "source": "import numpy as np\n\n# Given array\narr = np.array([[1, 2, 3], \n                [4, 5, 6]])\n\n# Calculate column-wise mean\ncolumn_mean = np.mean(arr, axis=0)\n\nprint(column_mean)\n",
      "metadata": {
        "trusted": true
      },
      "outputs": [
        {
          "name": "stdout",
          "output_type": "stream",
          "text": "[2.5 3.5 4.5]\n"
        }
      ],
      "execution_count": 44
    },
    {
      "id": "c32198d1-bed7-42f2-ad37-0aa70be0a34e",
      "cell_type": "code",
      "source": "import numpy as np\n\n# Given array\narr = np.array([[1, 2, 3], \n                [4, 5, 6]])\n\n# Find the maximum value in each row\nrow_max = np.max(arr, axis=1)\n\nprint(row_max)\n",
      "metadata": {
        "trusted": true
      },
      "outputs": [
        {
          "name": "stdout",
          "output_type": "stream",
          "text": "[3 6]\n"
        }
      ],
      "execution_count": 45
    },
    {
      "id": "e7090716-d0d4-4f36-8788-a45b011d050a",
      "cell_type": "code",
      "source": "import numpy as np\n\n# Given array\narr = np.array([[1, 2, 3], \n                [4, 5, 6]])\n\n# Find indices of maximum value in each column\nmax_indices = np.argmax(arr, axis=0)\n\nprint(max_indices)\n",
      "metadata": {
        "trusted": true
      },
      "outputs": [
        {
          "name": "stdout",
          "output_type": "stream",
          "text": "[1 1 1]\n"
        }
      ],
      "execution_count": 46
    },
    {
      "id": "0a7003a3-ea82-452a-a88f-64a53d5d8ffa",
      "cell_type": "code",
      "source": "import numpy as np\n\n# Given array\narr = np.array([[1, 2, 3], \n                [4, 5, 6]])\n\n# Custom function to calculate the moving sum along rows\ndef moving_sum(arr, window=2):\n    return np.array([np.convolve(row, np.ones(window, dtype=int), mode='valid') for row in arr])\n\n# Apply the custom moving sum function\nresult = moving_sum(arr)\n\nprint(result)\n",
      "metadata": {
        "trusted": true
      },
      "outputs": [
        {
          "name": "stdout",
          "output_type": "stream",
          "text": "[[ 3  5]\n [ 9 11]]\n"
        }
      ],
      "execution_count": 47
    },
    {
      "id": "d4e04627-3486-431d-8dac-21224f5f5208",
      "cell_type": "code",
      "source": "import numpy as np\n\n# Given array\narr = np.array([[2, 4, 6], \n                [3, 5, 7]])\n\n# Check if all elements in each column are even\nresult = np.all(arr % 2 == 0, axis=0)\n\nprint(result)\n",
      "metadata": {
        "trusted": true
      },
      "outputs": [
        {
          "name": "stdout",
          "output_type": "stream",
          "text": "[False False False]\n"
        }
      ],
      "execution_count": 48
    },
    {
      "id": "5934a8d6-2f61-41b6-a7af-2bdc0cc73fc8",
      "cell_type": "code",
      "source": "import numpy as np\n\n# Given array\noriginal_array = np.array([1, 2, 3, 4, 5, 6])\n\n# Reshape it into a matrix with 2 rows and 3 columns\nreshaped_matrix = original_array.reshape(2, 3)\n\nprint(reshaped_matrix)\n",
      "metadata": {
        "trusted": true
      },
      "outputs": [
        {
          "name": "stdout",
          "output_type": "stream",
          "text": "[[1 2 3]\n [4 5 6]]\n"
        }
      ],
      "execution_count": 49
    },
    {
      "id": "4b31643c-6305-4618-a615-2d0d7951905c",
      "cell_type": "code",
      "source": "import numpy as np\n\n# Given array\noriginal_array = np.array([1, 2, 3, 4, 5, 6])\n\n# Reshape it into a matrix with 2 rows and 3 columns\nreshaped_matrix = original_array.reshape(2, 3)\n\nprint(reshaped_matrix)\n",
      "metadata": {
        "trusted": true
      },
      "outputs": [
        {
          "name": "stdout",
          "output_type": "stream",
          "text": "[[1 2 3]\n [4 5 6]]\n"
        }
      ],
      "execution_count": 50
    },
    {
      "id": "9fd244dd-43d6-4d99-a5af-ae671d2dcc40",
      "cell_type": "code",
      "source": "import numpy as np\n\n# Function to flatten a matrix\ndef flatten_matrix(matrix):\n    return matrix.flatten()\n\n# Input matrix\ninput_matrix = np.array([[1, 2, 3], [4, 5, 6]])\n\n# Call the function\nflattened_array = flatten_matrix(input_matrix)\n\nprint(flattened_array)\n",
      "metadata": {
        "trusted": true
      },
      "outputs": [
        {
          "name": "stdout",
          "output_type": "stream",
          "text": "[1 2 3 4 5 6]\n"
        }
      ],
      "execution_count": 51
    },
    {
      "id": "d1c66f12-d680-4ec2-89d0-2c9f8a0d1216",
      "cell_type": "code",
      "source": "import numpy as np\n\n# Function to concatenate two arrays along a specified axis\ndef concatenate_arrays(array1, array2, axis=0):\n    return np.concatenate((array1, array2), axis=axis)\n\n# Given arrays\narray1 = np.array([[1, 2], [3, 4]])\narray2 = np.array([[5, 6], [7, 8]])\n\n# Concatenate along rows (axis=0)\nresult_axis_0 = concatenate_arrays(array1, array2, axis=0)\n\n# Concatenate along columns (axis=1)\nresult_axis_1 = concatenate_arrays(array1, array2, axis=1)\n\nprint(\"Concatenated along rows (axis=0):\")\nprint(result_axis_0)\n\nprint(\"\\nConcatenated along columns (axis=1):\")\nprint(result_axis_1)\n",
      "metadata": {
        "trusted": true
      },
      "outputs": [
        {
          "name": "stdout",
          "output_type": "stream",
          "text": "Concatenated along rows (axis=0):\n[[1 2]\n [3 4]\n [5 6]\n [7 8]]\n\nConcatenated along columns (axis=1):\n[[1 2 5 6]\n [3 4 7 8]]\n"
        }
      ],
      "execution_count": 52
    },
    {
      "id": "3e114792-5d9b-4125-ac48-930837a77725",
      "cell_type": "code",
      "source": "import numpy as np\n\n# Function to split an array into sub-arrays along a specified axis\ndef split_array(array, num_splits, axis=0):\n    return np.split(array, num_splits, axis=axis)\n\n# Given array\noriginal_array = np.array([[1, 2, 3], \n                           [4, 5, 6], \n                           [7, 8, 9]])\n\n# Split along rows (axis=0)\nresult_axis_0 = split_array(original_array, 3, axis=0)\n\n# Split along columns (axis=1)\nresult_axis_1 = split_array(original_array, 3, axis=1)\n\nprint(\"Split along rows (axis=0):\")\nfor sub_array in result_axis_0:\n    print(sub_array)\n\nprint(\"\\nSplit along columns (axis=1):\")\nfor sub_array in result_axis_1:\n    print(sub_array)\n",
      "metadata": {
        "trusted": true
      },
      "outputs": [
        {
          "name": "stdout",
          "output_type": "stream",
          "text": "Split along rows (axis=0):\n[[1 2 3]]\n[[4 5 6]]\n[[7 8 9]]\n\nSplit along columns (axis=1):\n[[1]\n [4]\n [7]]\n[[2]\n [5]\n [8]]\n[[3]\n [6]\n [9]]\n"
        }
      ],
      "execution_count": 53
    },
    {
      "id": "6c95abe8-29cb-4bd8-93c0-48477f2e2ee8",
      "cell_type": "code",
      "source": "import numpy as np\n\n# Function to insert and delete elements from an array\ndef insert_and_delete_elements(original_array, indices_to_insert, values_to_insert, indices_to_delete):\n    # Insert values at specified indices\n    array_after_insert = np.insert(original_array, indices_to_insert, values_to_insert)\n    \n    # Delete elements at specified indices\n    array_after_delete = np.delete(array_after_insert, indices_to_delete)\n    \n    return array_after_insert, array_after_delete\n\n# Given array and indices\noriginal_array = np.array([1, 2, 3, 4, 5])\nindices_to_insert = [2, 4]\nvalues_to_insert = [10, 11]\nindices_to_delete = [1, 3]\n\n# Call the function\narray_after_insert, array_after_delete = insert_and_delete_elements(original_array, indices_to_insert, values_to_insert, indices_to_delete)\n\n# Print results\nprint(\"Array after insertions:\")\nprint(array_after_insert)\n\nprint(\"\\nArray after deletions:\")\nprint(array_after_delete)\n",
      "metadata": {
        "trusted": true
      },
      "outputs": [
        {
          "name": "stdout",
          "output_type": "stream",
          "text": "Array after insertions:\n[ 1  2 10  3  4 11  5]\n\nArray after deletions:\n[ 1 10  4 11  5]\n"
        }
      ],
      "execution_count": 54
    },
    {
      "id": "92f1f66b-4589-4ff6-8570-2ee3c65153d8",
      "cell_type": "code",
      "source": "import numpy as np\n\n# Create a NumPy array `arr1` with random integers (let's say of size 5)\narr1 = np.random.randint(1, 10, size=5)\n\n# Create a NumPy array `arr2` with integers from 1 to 10\narr2 = np.array([1, 2, 3, 4, 5])\n\n# Perform element-wise addition\nresult = arr1 + arr2\n\nprint(\"Array 1 (Random Integers):\", arr1)\nprint(\"Array 2 (Integers from 1 to 5):\", arr2)\nprint(\"Element-wise Addition Result:\", result)\n",
      "metadata": {
        "trusted": true
      },
      "outputs": [
        {
          "name": "stdout",
          "output_type": "stream",
          "text": "Array 1 (Random Integers): [5 9 6 6 2]\nArray 2 (Integers from 1 to 5): [1 2 3 4 5]\nElement-wise Addition Result: [ 6 11  9 10  7]\n"
        }
      ],
      "execution_count": 55
    },
    {
      "id": "e42572ee-5841-4437-8975-271828ee6167",
      "cell_type": "code",
      "source": "import numpy as np\n\n# Create a NumPy array `arr1` with sequential integers from 10 to 1\narr1 = np.arange(10, 0, -1)\n\n# Create a NumPy array `arr2` with integers from 1 to 10\narr2 = np.arange(1, 11)\n\n# Perform element-wise subtraction (arr1 - arr2)\nresult = arr1 - arr2\n\nprint(\"Array 1 (Sequential Integers from 10 to 1):\", arr1)\nprint(\"Array 2 (Integers from 1 to 10):\", arr2)\nprint(\"Element-wise Subtraction Result:\", result)\n",
      "metadata": {
        "trusted": true
      },
      "outputs": [
        {
          "name": "stdout",
          "output_type": "stream",
          "text": "Array 1 (Sequential Integers from 10 to 1): [10  9  8  7  6  5  4  3  2  1]\nArray 2 (Integers from 1 to 10): [ 1  2  3  4  5  6  7  8  9 10]\nElement-wise Subtraction Result: [ 9  7  5  3  1 -1 -3 -5 -7 -9]\n"
        }
      ],
      "execution_count": 56
    },
    {
      "id": "4a691422-260e-49c0-b8cf-278b3734b656",
      "cell_type": "code",
      "source": "import numpy as np\n\n# Create a NumPy array `arr1` with random integers (let's say of size 5)\narr1 = np.random.randint(1, 10, size=5)\n\n# Create a NumPy array `arr2` with integers from 1 to 5\narr2 = np.array([1, 2, 3, 4, 5])\n\n# Perform element-wise multiplication\nresult = arr1 * arr2\n\nprint(\"Array 1 (Random Integers):\", arr1)\nprint(\"Array 2 (Integers from 1 to 5):\", arr2)\nprint(\"Element-wise Multiplication Result:\", result)\n",
      "metadata": {
        "trusted": true
      },
      "outputs": [
        {
          "name": "stdout",
          "output_type": "stream",
          "text": "Array 1 (Random Integers): [6 7 9 1 7]\nArray 2 (Integers from 1 to 5): [1 2 3 4 5]\nElement-wise Multiplication Result: [ 6 14 27  4 35]\n"
        }
      ],
      "execution_count": 57
    },
    {
      "id": "6001837e-8a15-4f9e-a6c5-a181126437f0",
      "cell_type": "code",
      "source": "import numpy as np\n\n# Create a NumPy array `arr1` with random integers (let's say of size 5)\narr1 = np.random.randint(1, 10, size=5)\n\n# Create a NumPy array `arr2` with integers from 1 to 5\narr2 = np.array([1, 2, 3, 4, 5])\n\n# Perform element-wise multiplication\nresult = arr1 * arr2\n\nprint(\"Array 1 (Random Integers):\", arr1)\nprint(\"Array 2 (Integers from 1 to 5):\", arr2)\nprint(\"Element-wise Multiplication Result:\", result)\n",
      "metadata": {
        "trusted": true
      },
      "outputs": [
        {
          "name": "stdout",
          "output_type": "stream",
          "text": "Array 1 (Random Integers): [4 5 3 1 5]\nArray 2 (Integers from 1 to 5): [1 2 3 4 5]\nElement-wise Multiplication Result: [ 4 10  9  4 25]\n"
        }
      ],
      "execution_count": 58
    },
    {
      "id": "7d969f53-90ca-4345-b3b7-290ddd8a5781",
      "cell_type": "code",
      "source": "import numpy as np\n\n# Create a NumPy array `arr1` with integers from 1 to 5\narr1 = np.arange(1, 6)\n\n# Create a NumPy array `arr2` with the same numbers reversed\narr2 = arr1[::-1]\n\n# Perform element-wise exponentiation (arr1 raised to the power of arr2)\nresult = arr1 ** arr2\n\nprint(\"Array 1 (Integers from 1 to 5):\", arr1)\nprint(\"Array 2 (Reversed Integers):\", arr2)\nprint(\"Element-wise Exponentiation Result:\", result)\n",
      "metadata": {
        "trusted": true
      },
      "outputs": [
        {
          "name": "stdout",
          "output_type": "stream",
          "text": "Array 1 (Integers from 1 to 5): [1 2 3 4 5]\nArray 2 (Reversed Integers): [5 4 3 2 1]\nElement-wise Exponentiation Result: [ 1 16 27 16  5]\n"
        }
      ],
      "execution_count": 59
    },
    {
      "id": "0a0f279a-a890-4f78-9af0-3f8a6dc27cdb",
      "cell_type": "code",
      "source": "import numpy as np\n\n# Function to count occurrences of a specific substring\ndef count_substring(arr, substring):\n    # Use np.char.find() to find the substring in each element of the array\n    return np.sum(np.char.find(arr, substring) != -1)\n\n# Given NumPy array of strings\narr = np.array(['hello', 'world', 'hello', 'numpy', 'hello'])\n\n# Substring to search for\nsubstring = 'hello'\n\n# Count the occurrences of the substring\ncount = count_substring(arr, substring)\n\nprint(f\"The substring '{substring}' occurs {count} times in the array.\")\n",
      "metadata": {
        "trusted": true
      },
      "outputs": [
        {
          "name": "stdout",
          "output_type": "stream",
          "text": "The substring 'hello' occurs 3 times in the array.\n"
        }
      ],
      "execution_count": 60
    },
    {
      "id": "a7470f0a-db95-4585-9122-f09d686b213f",
      "cell_type": "code",
      "source": "import numpy as np\n\n# Function to extract uppercase characters from a NumPy array of strings\ndef extract_uppercase(arr):\n    # Create an empty list to store the uppercase characters\n    uppercase_chars = []\n    \n    # Loop through each string in the array\n    for string in arr:\n        # Extract uppercase characters from each string\n        uppercase_chars.extend([char for char in string if char.isupper()])\n    \n    return uppercase_chars\n\n# Given NumPy array of strings\narr = np.array(['Hello', 'World', 'OpenAI', 'GPT'])\n\n# Extract uppercase characters\nuppercase_characters = extract_uppercase(arr)\n\nprint(\"Uppercase characters extracted:\", uppercase_characters)\n",
      "metadata": {
        "trusted": true
      },
      "outputs": [
        {
          "name": "stdout",
          "output_type": "stream",
          "text": "Uppercase characters extracted: ['H', 'W', 'O', 'A', 'I', 'G', 'P', 'T']\n"
        }
      ],
      "execution_count": 61
    },
    {
      "id": "31aed0d7-a2d8-4438-adcf-94af8e276d44",
      "cell_type": "code",
      "source": "Original array: ['apple' 'banana' 'grape' 'pineapple']\nModified array: ['orange' 'banana' 'grape' 'pineorange\n",
      "metadata": {
        "trusted": true
      },
      "outputs": [],
      "execution_count": null
    },
    {
      "id": "371b3e4d-a0f1-41e9-8f59-ce3215347b60",
      "cell_type": "code",
      "source": "import numpy as np\n\n# Function to replace occurrences of a substring with a new string in a NumPy array\ndef replace_substring(arr, old_substring, new_substring):\n    # Use np.char.replace() to replace the substring\n    return np.char.replace(arr, old_substring, new_substring)\n\n# Given NumPy array of strings\narr = np.array(['apple', 'banana', 'grape', 'pineapple'])\n\n# Define the old substring and the new substring\nold_substring = 'apple'\nnew_substring = 'orange'\n\n# Replace occurrences of the substring\nmodified_arr = replace_substring(arr, old_substring, new_substring)\n\nprint(\"Original array:\", arr)\nprint(\"Modified array:\", modified_arr)\n\n\n",
      "metadata": {
        "trusted": true
      },
      "outputs": [
        {
          "name": "stdout",
          "output_type": "stream",
          "text": "Original array: ['apple' 'banana' 'grape' 'pineapple']\nModified array: ['orange' 'banana' 'grape' 'pineorange']\n"
        }
      ],
      "execution_count": 63
    },
    {
      "id": "4c297a5d-ca24-46fb-9c37-84ec936c9d18",
      "cell_type": "code",
      "source": "import numpy as np\n\n# Function to concatenate strings element-wise from two NumPy arrays\ndef concatenate_strings(arr1, arr2):\n    # Use np.char.add() to concatenate strings element-wise\n    return np.char.add(arr1, arr2)\n\n# Given NumPy arrays\narr1 = np.array(['Hello', 'World'])\narr2 = np.array(['Open', 'AI'])\n\n# Concatenate the arrays\nconcatenated_arr = concatenate_strings(arr1, arr2)\n\nprint(\"Concatenated array:\", concatenated_arr)\n",
      "metadata": {
        "trusted": true
      },
      "outputs": [
        {
          "name": "stdout",
          "output_type": "stream",
          "text": "Concatenated array: ['HelloOpen' 'WorldAI']\n"
        }
      ],
      "execution_count": 64
    },
    {
      "id": "1ea5d61b-04c7-439c-8f63-6605659b0645",
      "cell_type": "code",
      "source": "import numpy as np\n\n# Function to find the length of the longest string in a NumPy array\ndef longest_string_length(arr):\n    # Use np.char.str_len() to get the length of each string in the array\n    lengths = np.char.str_len(arr)\n    \n    # Find and return the maximum length\n    return np.max(lengths)\n\n# Given NumPy array of strings\narr = np.array(['apple', 'banana', 'grape', 'pineapple'])\n\n# Find the length of the longest string\nmax_length = longest_string_length(arr)\n\nprint(\"Length of the longest string:\", max_length)\n",
      "metadata": {
        "trusted": true
      },
      "outputs": [
        {
          "name": "stdout",
          "output_type": "stream",
          "text": "Length of the longest string: 9\n"
        }
      ],
      "execution_count": 65
    },
    {
      "id": "c13e5413-2ef6-4209-b71c-430036c5cb00",
      "cell_type": "code",
      "source": "import numpy as np\n\n# Generate a dataset of 100 random integers between 1 and 1000\ndataset = np.random.randint(1, 1001, size=100)\n\n# Compute the mean, median, variance, and standard deviation\nmean = np.mean(dataset)\nmedian = np.median(dataset)\nvariance = np.var(dataset)\nstd_deviation = np.std(dataset)\n\n# Print the results\nprint(f\"Mean: {mean}\")\nprint(f\"Median: {median}\")\nprint(f\"Variance: {variance}\")\nprint(f\"Standard Deviation: {std_deviation}\")\n",
      "metadata": {
        "trusted": true
      },
      "outputs": [
        {
          "name": "stdout",
          "output_type": "stream",
          "text": "Mean: 509.67\nMedian: 543.5\nVariance: 83440.70109999999\nStandard Deviation: 288.8610411599321\n"
        }
      ],
      "execution_count": 66
    },
    {
      "id": "1121d7b7-ba6f-4bb0-895e-6d40286409bf",
      "cell_type": "code",
      "source": "import numpy as np\n\n# Generate an array of 50 random numbers between 1 and 100\ndataset = np.random.randint(1, 101, size=50)\n\n# Compute the 25th and 75th percentiles\npercentile_25 = np.percentile(dataset, 25)\npercentile_75 = np.percentile(dataset, 75)\n\n# Print the results\nprint(f\"25th Percentile: {percentile_25}\")\nprint(f\"75th Percentile: {percentile_75}\")\n",
      "metadata": {
        "trusted": true
      },
      "outputs": [
        {
          "name": "stdout",
          "output_type": "stream",
          "text": "25th Percentile: 19.25\n75th Percentile: 71.0\n"
        }
      ],
      "execution_count": 67
    },
    {
      "id": "b40a9e98-eeaf-4f78-84f3-d0000845b067",
      "cell_type": "code",
      "source": "import numpy as np\n\n# Create two arrays representing two sets of variables\narr1 = np.array([1, 2, 3, 4, 5])\narr2 = np.array([5, 4, 3, 2, 1])\n\n# Compute the correlation coefficient matrix\ncorrelation_matrix = np.corrcoef(arr1, arr2)\n\n# Extract the correlation coefficient between arr1 and arr2\ncorrelation_coefficient = correlation_matrix[0, 1]\n\n# Print the result\nprint(f\"Correlation Coefficient: {correlation_coefficient}\")\n",
      "metadata": {
        "trusted": true
      },
      "outputs": [
        {
          "name": "stdout",
          "output_type": "stream",
          "text": "Correlation Coefficient: -0.9999999999999999\n"
        }
      ],
      "execution_count": 68
    },
    {
      "id": "af693d52-8f65-4bf1-b31b-b31372219546",
      "cell_type": "code",
      "source": "import numpy as np\n\n# Create two matrices\nmatrix1 = np.array([[1, 2], [3, 4]])\nmatrix2 = np.array([[5, 6], [7, 8]])\n\n# Perform matrix multiplication using np.dot()\nresult = np.dot(matrix1, matrix2)\n\n# Print the result\nprint(\"Matrix multiplication result:\\n\", result)\n",
      "metadata": {
        "trusted": true
      },
      "outputs": [
        {
          "name": "stdout",
          "output_type": "stream",
          "text": "Matrix multiplication result:\n [[19 22]\n [43 50]]\n"
        }
      ],
      "execution_count": 69
    },
    {
      "id": "1ceaf258-ba18-448e-8e7c-f3ab79453ffe",
      "cell_type": "code",
      "source": "import numpy as np\n\n# Create an array of 50 random integers between 10 and 1000\narr = np.random.randint(10, 1001, size=50)\n\n# Calculate the 10th, 50th (median), and 90th percentiles\npercentile_10 = np.percentile(arr, 10)\npercentile_50 = np.percentile(arr, 50)  # This is also the median\npercentile_90 = np.percentile(arr, 90)\n\n# Calculate the first and third quartiles (25th and 75th percentiles)\nquartile_25 = np.percentile(arr, 25)\nquartile_75 = np.percentile(arr, 75)\n\n# Print the results\nprint(f\"10th Percentile: {percentile_10}\")\nprint(f\"50th Percentile (Median): {percentile_50}\")\nprint(f\"90th Percentile: {percentile_90}\")\nprint(f\"First Quartile (25th Percentile): {quartile_25}\")\nprint(f\"Third Quartile (75th Percentile): {quartile_75}\")\n",
      "metadata": {
        "trusted": true
      },
      "outputs": [
        {
          "name": "stdout",
          "output_type": "stream",
          "text": "10th Percentile: 95.00000000000001\n50th Percentile (Median): 510.0\n90th Percentile: 910.2\nFirst Quartile (25th Percentile): 285.5\nThird Quartile (75th Percentile): 816.25\n"
        }
      ],
      "execution_count": 70
    },
    {
      "id": "11d550d8-534a-4851-bbb2-d819cf40fa53",
      "cell_type": "code",
      "source": "import numpy as np\n\n# Create a NumPy array of integers\narr = np.array([10, 20, 30, 40, 50, 60, 70])\n\n# Find the index of a specific element, for example, 40\nelement = 40\nindex = np.where(arr == element)\n\n# Print the index\nprint(f\"The index of {element} is: {index[0][0]}\")\n",
      "metadata": {
        "trusted": true
      },
      "outputs": [
        {
          "name": "stdout",
          "output_type": "stream",
          "text": "The index of 40 is: 3\n"
        }
      ],
      "execution_count": 71
    },
    {
      "id": "af9b8112-325d-480d-b7ea-a28be64b07b5",
      "cell_type": "code",
      "source": "import numpy as np\n\n# Generate a random NumPy array of 10 integers between 1 and 100\narr = np.random.randint(1, 101, size=10)\n\n# Sort the array in ascending order\nsorted_arr = np.sort(arr)\n\n# Print the original and sorted arrays\nprint(\"Original array:\", arr)\nprint(\"Sorted array:\", sorted_arr)\n",
      "metadata": {
        "trusted": true
      },
      "outputs": [
        {
          "name": "stdout",
          "output_type": "stream",
          "text": "Original array: [52  7 52 87  4 10  7 29 97 52]\nSorted array: [ 4  7  7 10 29 52 52 52 87 97]\n"
        }
      ],
      "execution_count": 72
    },
    {
      "id": "9c297f04-fb45-4fb4-b8b2-6f45b3218cdd",
      "cell_type": "code",
      "source": "import numpy as np\n\n# Given array\narr = np.array([12, 25, 6, 42, 8, 30])\n\n# Filter elements greater than 20\nfiltered_arr = arr[arr > 20]\n\n# Print the filtered array\nprint(\"Elements greater than 20:\", filtered_arr)\n",
      "metadata": {
        "trusted": true
      },
      "outputs": [
        {
          "name": "stdout",
          "output_type": "stream",
          "text": "Elements greater than 20: [25 42 30]\n"
        }
      ],
      "execution_count": 73
    },
    {
      "id": "abf0eb2d-892a-4806-bae5-a7eac1f0f186",
      "cell_type": "code",
      "source": "import numpy as np\n\n# Given array\narr = np.array([1, 5, 8, 12, 15])\n\n# Filter elements divisible by 3\nfiltered_arr = arr[arr % 3 == 0]\n\n# Print the filtered array\nprint(\"Elements divisible by 3:\", filtered_arr)\n",
      "metadata": {
        "trusted": true
      },
      "outputs": [
        {
          "name": "stdout",
          "output_type": "stream",
          "text": "Elements divisible by 3: [12 15]\n"
        }
      ],
      "execution_count": 74
    },
    {
      "id": "95133a37-a306-4202-b4d8-fec1d76fa37f",
      "cell_type": "code",
      "source": "import numpy as np\n\n# Given array\narr = np.array([10, 20, 30, 40, 50])\n\n# Filter elements that are ≥ 20 and ≤ 40\nfiltered_arr = arr[(arr >= 20) & (arr <= 40)]\n\n# Print the filtered array\nprint(\"Elements ≥ 20 and ≤ 40:\", filtered_arr)\n",
      "metadata": {
        "trusted": true
      },
      "outputs": [
        {
          "name": "stdout",
          "output_type": "stream",
          "text": "Elements ≥ 20 and ≤ 40: [20 30 40]\n"
        }
      ],
      "execution_count": 75
    },
    {
      "id": "211263e5-05e9-4586-b9e2-93beede6513d",
      "cell_type": "code",
      "source": "",
      "metadata": {
        "trusted": true
      },
      "outputs": [],
      "execution_count": null
    }
  ]
}